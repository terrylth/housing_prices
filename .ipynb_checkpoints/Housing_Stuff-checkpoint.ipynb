{
 "cells": [
  {
   "cell_type": "code",
   "execution_count": null,
   "id": "c5ca3c4b-8b30-49e8-aaff-a55108c2c29d",
   "metadata": {},
   "outputs": [],
   "source": [
    "print(\"Testing branchh\")"
   ]
  }
 ],
 "metadata": {
  "kernelspec": {
   "display_name": "Python 3 (ipykernel)",
   "language": "python",
   "name": "python3"
  },
  "language_info": {
   "codemirror_mode": {
    "name": "ipython",
    "version": 3
   },
   "file_extension": ".py",
   "mimetype": "text/x-python",
   "name": "python",
   "nbconvert_exporter": "python",
   "pygments_lexer": "ipython3",
   "version": "3.12.5"
  }
 },
 "nbformat": 4,
 "nbformat_minor": 5
}
